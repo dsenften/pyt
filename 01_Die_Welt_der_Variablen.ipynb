{
  "nbformat": 4,
  "nbformat_minor": 0,
  "metadata": {
    "colab": {
      "name": "01 Die Welt der Variablen.ipynb",
      "provenance": [],
      "collapsed_sections": [],
      "authorship_tag": "ABX9TyO7o5VNcpzKje0c04+SzZbf",
      "include_colab_link": true
    },
    "kernelspec": {
      "name": "python3",
      "display_name": "Python 3"
    }
  },
  "cells": [
    {
      "cell_type": "markdown",
      "metadata": {
        "id": "view-in-github",
        "colab_type": "text"
      },
      "source": [
        "<a href=\"https://colab.research.google.com/github/dsenften/pyt/blob/master/01_Die_Welt_der_Variablen.ipynb\" target=\"_parent\"><img src=\"https://colab.research.google.com/assets/colab-badge.svg\" alt=\"Open In Colab\"/></a>"
      ]
    },
    {
      "cell_type": "markdown",
      "metadata": {
        "id": "Z2VnvxHnM99G",
        "colab_type": "text"
      },
      "source": [
        "# Variablen"
      ]
    },
    {
      "cell_type": "markdown",
      "metadata": {
        "id": "nt9teYBcNEVE",
        "colab_type": "text"
      },
      "source": [
        "Eine Variable ist ein Name bzw. ein Bezeichner, mit dem man auf ein Objekt zugreifen kann. Ein Objekt steht zwar an einem bestimmten Speicherplatz, aber in Python spricht und denkt man nicht in physikalischen Speicherplätzen. Eine Variable ist nicht einem festen Objekt oder Speicherplatz zugeordnet. Während des Programmablaufs können einem Variablennamen neue beliebige Objekte zugewiesen werden, d.h. die Variable referenziert nach jeder Zuweisung in den meisten Fällen einen neuen Speicherort. Diese Objekte können beliebige Datentypen sein. Eine Variable referenziert also ein Objekt in Python."
      ]
    },
    {
      "cell_type": "markdown",
      "metadata": {
        "id": "nU3yO4ljNV8Q",
        "colab_type": "text"
      },
      "source": [
        "Im Folgenden kreieren wir eine Variable $x$ in der interaktiven Python-Shell, indem wir ihr einfach den Wert $42$ unter Verwendung eines Gleichheitszeichens zuweisen:"
      ]
    },
    {
      "cell_type": "code",
      "metadata": {
        "id": "8FeJm9eVM1LP",
        "colab_type": "code",
        "colab": {}
      },
      "source": [
        "x = 42"
      ],
      "execution_count": null,
      "outputs": []
    },
    {
      "cell_type": "markdown",
      "metadata": {
        "id": "rVDAhVF2Ng3Z",
        "colab_type": "text"
      },
      "source": [
        "Man bezeichnet dies als Definition einer Variablen. Genau genommen müsste man sagen, dass wir ein Integer-Objekt „42” erzeugen und es mit dem Namen x referenzieren. Anmerkung: Obige Anweisung darf man nicht als mathematisches Gleichheitszeichen sehen, sondern als „der Variablen x wird der Wert 42 zugewiesen”."
      ]
    },
    {
      "cell_type": "markdown",
      "metadata": {
        "id": "RWBcb4QLNrjo",
        "colab_type": "text"
      },
      "source": [
        "Wir können nun diese Variable zum Beispiel benutzen, indem wir ihren Wert mit der Funktion `print()` ausgeben lassen:"
      ]
    },
    {
      "cell_type": "code",
      "metadata": {
        "id": "vwkkR7h8NaKk",
        "colab_type": "code",
        "colab": {
          "base_uri": "https://localhost:8080/",
          "height": 35
        },
        "outputId": "23c569a7-2154-4656-83ba-5357ad8c7e28"
      },
      "source": [
        "print(\"Wert von x: \", x)"
      ],
      "execution_count": null,
      "outputs": [
        {
          "output_type": "stream",
          "text": [
            "Wert von x:  42\n"
          ],
          "name": "stdout"
        }
      ]
    },
    {
      "cell_type": "markdown",
      "metadata": {
        "id": "vxVuuqLwN72Z",
        "colab_type": "text"
      },
      "source": [
        "## Variablennamen"
      ]
    },
    {
      "cell_type": "markdown",
      "metadata": {
        "id": "fGhkAyj0OBFD",
        "colab_type": "text"
      },
      "source": [
        "Variablennamen müssen mit einem Buchstaben oder Unterstrich „`_`” beginnen. Die folgenden Zeichen dürfen sich aus einer beliebigen Folge von Buchstaben, Ziffern und dem Unterstrich zusammensetzen. Variablennamen sind *case*-sensitive. Dies bedeutet, dass Python zwischen Gross- und Kleinschreibung unterscheidet. Ausserdem werden Variablennamen, die aus mehreren Wörtern bestehen, mittels Unterstrich (`_`) separiert."
      ]
    },
    {
      "cell_type": "code",
      "metadata": {
        "id": "tFgcf__KN1O6",
        "colab_type": "code",
        "colab": {}
      },
      "source": [
        "person_42 = \"Marvin\"\n",
        "Person_42 = \"Arthur\""
      ],
      "execution_count": null,
      "outputs": []
    },
    {
      "cell_type": "code",
      "metadata": {
        "id": "dTj-xofQOaN2",
        "colab_type": "code",
        "colab": {
          "base_uri": "https://localhost:8080/",
          "height": 35
        },
        "outputId": "16923df1-575f-4e07-8d02-218b44828c6b"
      },
      "source": [
        "print(person_42)"
      ],
      "execution_count": null,
      "outputs": [
        {
          "output_type": "stream",
          "text": [
            "Marvin\n"
          ],
          "name": "stdout"
        }
      ]
    },
    {
      "cell_type": "code",
      "metadata": {
        "id": "Rk1Af2agOcj7",
        "colab_type": "code",
        "colab": {
          "base_uri": "https://localhost:8080/",
          "height": 35
        },
        "outputId": "a44ccb63-6c7a-47c3-8db5-4c1665bfeebf"
      },
      "source": [
        "print(Person_42)"
      ],
      "execution_count": null,
      "outputs": [
        {
          "output_type": "stream",
          "text": [
            "Arthur\n"
          ],
          "name": "stdout"
        }
      ]
    },
    {
      "cell_type": "markdown",
      "metadata": {
        "id": "wf-7z8FOOoU1",
        "colab_type": "text"
      },
      "source": [
        "# Datentypen"
      ]
    },
    {
      "cell_type": "markdown",
      "metadata": {
        "id": "Tp3LyzopOu65",
        "colab_type": "text"
      },
      "source": [
        "## Ganze Zahlen"
      ]
    },
    {
      "cell_type": "markdown",
      "metadata": {
        "id": "xxxqUK7KOyd_",
        "colab_type": "text"
      },
      "source": [
        "Ganze Zahlen werden in der Informatik üblicherweise als Integer bezeichnet. Es handelt sich dabei um die Zahlen $... -3, -2, -1, 0, 1, 2, 3, ...$ Während Integer-Zahlen in den meisten Programmiersprachen durch einen Maximalwert begrenzt sind, sind sie in Python unbegrenzt, d.h. sie können beliebig gross bzw. beliebig klein werden."
      ]
    },
    {
      "cell_type": "markdown",
      "metadata": {
        "id": "0bMeCgNPRsjl",
        "colab_type": "text"
      },
      "source": [
        "Bei Integer-Zahlen muss man beachten, dass sie nicht mit einer $0$ beginnen dürfen, wenn es sich um eine Zahl im Dezimalsystem handeln soll."
      ]
    },
    {
      "cell_type": "code",
      "metadata": {
        "id": "f1y3WreLRuk2",
        "colab_type": "code",
        "colab": {
          "base_uri": "https://localhost:8080/",
          "height": 35
        },
        "outputId": "24966573-270a-40c8-eb89-3fbc7c19bc8f"
      },
      "source": [
        "x = 0b101010\n",
        "\n",
        "print(x)"
      ],
      "execution_count": null,
      "outputs": [
        {
          "output_type": "stream",
          "text": [
            "42\n"
          ],
          "name": "stdout"
        }
      ]
    },
    {
      "cell_type": "markdown",
      "metadata": {
        "id": "czM54__1R4TQ",
        "colab_type": "text"
      },
      "source": [
        "## Fliesskommazahlen"
      ]
    },
    {
      "cell_type": "markdown",
      "metadata": {
        "id": "nH7l-Pl0R7-k",
        "colab_type": "text"
      },
      "source": [
        "Fliesskommazahlen entsprechen dem Datentyp `float` in Python. Es handelt sich dabei um Zahlen der wie $2.34$ oder auch $3.15e2$."
      ]
    },
    {
      "cell_type": "markdown",
      "metadata": {
        "id": "5vClZYnUSMZ6",
        "colab_type": "text"
      },
      "source": [
        "**Achtung**: In Python und in anderen Programmiersprachen wird statt des Kommas immer ein Punkt, der sogenannte Dezimalpunkt, benutzt!  "
      ]
    },
    {
      "cell_type": "code",
      "metadata": {
        "id": "vMIIIHCER5v-",
        "colab_type": "code",
        "colab": {
          "base_uri": "https://localhost:8080/",
          "height": 35
        },
        "outputId": "e9ce1d86-8a6b-4662-f98e-86a9c50a03e6"
      },
      "source": [
        "value = 3.14e2\n",
        "\n",
        "print(value)"
      ],
      "execution_count": null,
      "outputs": [
        {
          "output_type": "stream",
          "text": [
            "314.0\n"
          ],
          "name": "stdout"
        }
      ]
    },
    {
      "cell_type": "code",
      "metadata": {
        "id": "qS4z3qwHSZtR",
        "colab_type": "code",
        "colab": {}
      },
      "source": [
        ""
      ],
      "execution_count": null,
      "outputs": []
    }
  ]
}